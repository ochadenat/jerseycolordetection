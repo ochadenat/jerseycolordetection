{
 "cells": [
  {
   "cell_type": "markdown",
   "metadata": {
    "pycharm": {}
   },
   "source": [
    "# [FootShirt.com](https://www.footshirt.com)\n",
    "![alt text](https://www.footshirt.com/assets/logo/footshirtlogo-small.png \"FootShirt.com\")\n",
    "\n",
    "[FootShirt.com](https://www.footshirt.com) is the site for soccer fans that enjoy collecting jerseys and/or are passionate by the history and values communicated by soccer shirts. \n",
    "\n",
    "Managing your jerseys collection can not be easier. Easily add your jerseys to your digital closet. Browse through the available jerseys or add your own. \n",
    "Add the jerseys you plan to buy or receive as a gift to your Wishlist that you can share with friends and family. \n",
    "\n",
    "Read our blog that features articles about soccer shirts. Do you think you know everything about soccer jerseys? Try our quizzes and compete with other \n",
    "fans around the world to be on the top of the leaderboard.\n",
    "\n"
   ]
  },
  {
   "cell_type": "markdown",
   "metadata": {},
   "source": [
    "# Introduction\n",
    "\n",
    "The goal of this notebook is to demonstrate the use of data visualization techniques and libraries while using hopefully a fun dataset. We will focus on Soccer Jersey Dominant Color in this notebook and create many 3D scatter plots.\n",
    "\n",
    "[![Binder](https://mybinder.org/badge_logo.svg)](https://mybinder.org/v2/gh/ochadenat/jerseycolordetection/master?filepath=jerseyColorDetection.ipynb)"
   ]
  },
  {
   "cell_type": "markdown",
   "metadata": {},
   "source": [
    "# Dataset\n",
    "\n",
    "## Home, Away and Third Jerseys\n",
    "For a very long time, teams had only two jerseys referenced as Home and Away. These two jersey types had very distinct colors in case two teams having the same main color where playing against each other (think Manchester United versus Liverpool Red Jerseys). It's worth mentioning that many teams have still a Away jersey with white as the dominant color, likely an heritage from the black and white TV era.\n",
    "\n",
    "## Records\n",
    "The dataset has 3,500 records (i.e. jersey) covering x teams (X Clubs and Y National Teams). Some teams might have only 1 jersey in the dataset while other popular teams such as Manchester United will have X jerseys. In addition, the recent period 2015-2019 is more represented compared to other periods : C jerseys for 2010-2014, D jerseys for 2005-2009 and E for pre-2005.\n",
    "This will introduce a bias toward popular teams, the recent past, the Home jersey in some analysis.Goalkeeper jerseys have been excluded from this dataset\n",
    "\n",
    "## Fields Description\n",
    "| Field                 | Description   | Example/Value\n",
    "| --------------------- | --- | ---\n",
    "| **id**                | jersey unique id                                    | 1, 2, 3\n",
    "| **team_id**           | team unique id                                      | 1, 2, 3\n",
    "| **teamname**          | team name                                           | Boca Juniors\n",
    "| **teamtype**          | team type                                           | Club, National   \n",
    "| **teamcountry**       | team country                                        | Argentina    \n",
    "| **image_caption**     | concatenation of team name, season, and jersey type | Boca Juniors 2018-2019 Home\n",
    "| **season**            | season                                              | 2018-2019\n",
    "| **homeawaythird**     | jersey type                                         | Home, Away, Third, Goalkeeper  \n",
    "| **image_color**       | jersey dominant color                               | rgb(50,72,81)\n",
    "| **image_r**           | jersey dominant color red component                 | Number between 0 and 255, e.g. 50  \n",
    "| **image_g**           | jersey dominant color green component               | Number between 0 and 255, e.g. 72\n",
    "| **image_b**           | jersey dominant color blue component                | Number between 0 and 255, e.g. 81\n",
    "| **image_content_url** | ?                                                   | ?\n",
    "| **image_id**          | ?                                                   | 1\n",
    "| **brand_id**          | kit supplier unique id                              | 1, 2, 3\n",
    "| **brandname**         | kit supplier                                        | Adidas, Nike, Puma\n",
    "| **urlname**           | ?                                                   |        \n",
    "\n",
    "Each jersey is assigned one (and only one) dominant color. We will use the RGB Color model in which each parameter (Red, Green, and Blue) defines the intensity of the color as an integer between 0 and 255.A future analysis will handle several dominant colors to take into account shirts such as Juventus Turin jerseys where both black and white can be considered as dominant colors."
   ]
  },
  {
   "cell_type": "markdown",
   "metadata": {
    "pycharm": {
     "metadata": false
    }
   },
   "source": [
    "### Import"
   ]
  },
  {
   "cell_type": "code",
   "execution_count": null,
   "metadata": {
    "pycharm": {
     "is_executing": false
    }
   },
   "outputs": [],
   "source": [
    "import struct\n",
    "from PIL import Image\n",
    "import numpy as np\n",
    "import webcolors as wb\n",
    "import pandas as pd\n",
    "import os\n",
    "import matplotlib.pyplot as plt\n",
    "from mpl_toolkits.mplot3d import Axes3D\n",
    "import seaborn as sns; sns.set()  # for plot styling\n",
    "import scipy\n",
    "from scipy.cluster.vq import vq, kmeans, whiten\n",
    "from  scipy.spatial.distance  import cdist\n",
    "from math import sqrt\n",
    "from matplotlib import rcParams\n",
    "# from matplotlib import style\n",
    "import matplotlib.gridspec as gridspec\n",
    "\n",
    "\n",
    "from IPython.display import HTML, display\n",
    "\n",
    "\n",
    "import plotly.plotly as py\n",
    "import plotly.graph_objs as go\n",
    "\n",
    "import numpy as np\n",
    "\n",
    "# Configure Matplotlib\n",
    "# to render the figure in a notebook\n",
    "%matplotlib inline\n",
    "# Set Matplotlib default padding for title label to 20 points\n",
    "rcParams[\"axes.titlepad\"] = 20\n",
    "# Set Matplotlib default padding for axis label to 5 points\n",
    "rcParams[\"axes.labelpad\"] = 5\n",
    "# Set Matplotlib default background color to white\n",
    "rcParams[\"figure.facecolor\"] = \"w\"\n",
    "\n"
   ]
  },
  {
   "cell_type": "markdown",
   "metadata": {
    "pycharm": {
     "metadata": false
    }
   },
   "source": [
    "## Define Dataset\n"
   ]
  },
  {
   "cell_type": "code",
   "execution_count": null,
   "metadata": {
    "pycharm": {
     "is_executing": false,
     "metadata": false,
     "name": "#%%\n"
    }
   },
   "outputs": [],
   "source": [
    "JERSEYS_COLORS_FILENAME = \"jerseys_colors.csv\"\n"
   ]
  },
  {
   "cell_type": "code",
   "execution_count": null,
   "metadata": {
    "pycharm": {
     "is_executing": false,
     "metadata": false,
     "name": "#%%\n"
    }
   },
   "outputs": [],
   "source": [
    "#Display a HTML table with jersey name, picture and dominant color\n",
    "def display_jersey_table(df):\n",
    "    \n",
    "    print (df.head(5))\n",
    "    data = df.values\n",
    "    html_str = \"<table><tr><th>Jersey</th><th>Picture</th><th>Color</th></tr>\"\n",
    "    for x in range(0, data.shape[0]):\n",
    "        html_str = html_str + \"<td>{}</td>\".format(data[x][0])\n",
    "        html_str = html_str + \"<td><img src=\\\"{}\\\"  height=42 width=42></td>\".format(data[x][1])\n",
    "        html_str = html_str + \"<td style=\\\"background-color:{}\\\"></td></tr>\".format(data[x][2])\n",
    "    html_str = html_str + \"</table>\"\n",
    "    \n",
    "    display(HTML(html_str))\n"
   ]
  },
  {
   "cell_type": "markdown",
   "metadata": {
    "pycharm": {}
   },
   "source": [
    "# Chart Colors"
   ]
  },
  {
   "cell_type": "markdown",
   "metadata": {
    "pycharm": {
     "metadata": false
    }
   },
   "source": [
    "Break Down by year/period\n"
   ]
  },
  {
   "cell_type": "markdown",
   "metadata": {
    "pycharm": {
     "metadata": false
    }
   },
   "source": [
    "Break Down by Country\n"
   ]
  },
  {
   "cell_type": "markdown",
   "metadata": {
    "pycharm": {
     "metadata": false
    }
   },
   "source": [
    "# Football Shirts Dominant Colors\n",
    "The chart below show dominant colors for the entire FootShirt.com database, i.e about 3,000 jerseys. It\"s worth noticing \n",
    "that very few teams play in green"
   ]
  },
  {
   "cell_type": "code",
   "execution_count": null,
   "metadata": {
    "pycharm": {
     "is_executing": false,
     "metadata": false,
     "name": "#%%\n"
    }
   },
   "outputs": [],
   "source": [
    "df_colors = pd.read_csv(JERSEYS_COLORS_FILENAME, sep=\";\",usecols  =[\"image_r\", \"image_g\", \"image_b\"])\n",
    "X = df_colors[[\"image_r\", \"image_g\", \"image_b\"]].values\n",
    "fig = plt.figure(figsize=(12,9))\n",
    "ax = fig.add_subplot(111, projection=\"3d\")\n",
    "ax.scatter(X[:, 0], X[:, 1], X[:, 2], c=X/255.0, s=20, edgecolors=\"none\")\n",
    "ax.set_xlabel(\"Red\", fontsize=14, fontweight=\"bold\", color=\"r\")\n",
    "ax.set_ylabel(\"Green\",  fontsize=14, fontweight=\"bold\", color=\"g\")\n",
    "ax.set_zlabel(\"Blue\",  fontsize=14, fontweight=\"bold\", color=\"b\", rotation=90)\n",
    "ax.set_title( \"Football Shirts Dominant Colors\", fontsize=14, fontweight=\"bold\")\n",
    "plt.show()\n"
   ]
  },
  {
   "cell_type": "markdown",
   "metadata": {
    "pycharm": {
     "metadata": false
    }
   },
   "source": [
    "# Football Shirts Dominant Colors for the 2018 Fifa World Cup Russia\n",
    "\n",
    "The 2018 Fifa World Cup Russia was featuring 32 teams, each team had a Home Jersey and a Away Jersey (so the dataset has 64 jerseys, each having a dmoninant color"
   ]
  },
  {
   "cell_type": "code",
   "execution_count": null,
   "metadata": {
    "pycharm": {
     "is_executing": false,
     "metadata": false,
     "name": "#%%\n"
    }
   },
   "outputs": [],
   "source": [
    "# Define the scope\n",
    "teamnames = [\"Argentina\", \"Australia\", \"Belgium\", \"Brazil\", \"Colombia\", \"Costa Rica\", \"Croatia\", \"Denmark\", \"Egypt\", \n",
    "             \"England\", \"France\", \"Germany\", \"Iceland\", \"Iran\", \"Japan\", \"South Korea\", \"Mexico\", \"Morocco\", \n",
    "             \"Nigeria\", \"Panama\", \"Peru\", \"Poland\", \"Portugal\", \"Russia\", \"Saudi Arabia\", \"Senegal\", \"Serbia\", \n",
    "             \"Spain\", \"Sweden\", \"Switzerland\", \"Tunisia\", \"Uruguay\"]\n",
    "season = \"2018\"\n",
    "jersey_types = [\"Home\", \"Away\"]\n",
    "# Load Dataset\n",
    "df_colors = pd.read_csv(JERSEYS_COLORS_FILENAME, sep=\";\",usecols  =[\"teamname\", \"season\", \"homeawaythird\", \"image_r\", \"image_g\", \"image_b\",\"teamname\"])\n",
    "\n",
    "fig = plt.figure(figsize=(24,6))\n",
    "fig.subplots_adjust(hspace=0.1, wspace=0.01)\n",
    "\n",
    "df_colors_type = df_colors [(df_colors[\"teamname\"].isin(teamnames)) & (df_colors[\"homeawaythird\"].isin(jersey_types)) &\n",
    "    (df_colors[\"season\"] == \"2018\")]\n",
    "X = df_colors_type[[\"image_r\", \"image_g\", \"image_b\"]].values\n",
    "ax = fig.add_subplot(131, projection=\"3d\")\n",
    "ax.scatter(X[:, 0], X[:, 1], X[:, 2], c=X/255.0, s=200, linewidths=1, edgecolors=\"k\")\n",
    "ax.set_xlim3d(0,300)\n",
    "ax.set_ylim3d(0,300)\n",
    "ax.set_zlim3d(0,300)\n",
    "ax.set_xlabel(\"Red\", fontsize=12, fontweight=\"bold\", color=\"r\")\n",
    "ax.set_ylabel(\"Green\",  fontsize=12, fontweight=\"bold\", color=\"g\")\n",
    "ax.set_zlabel(\"Blue\",  fontsize=12, fontweight=\"bold\", color=\"b\", rotation=90)\n",
    "title = \"Football Shirt Dominant Colors for World Cup 2018\\n (sample size: {})\".format(len(df_colors_type))\n",
    "ax.set_title( title, fontsize=12, fontweight=\"bold\",  pad = 0)\n",
    " \n",
    "i = 1\n",
    "for jersey_type in jersey_types:\n",
    "    df_colors_type = df_colors [(df_colors[\"teamname\"].isin(teamnames)) & (df_colors[\"homeawaythird\"] == jersey_type) &\n",
    "    (df_colors[\"season\"] == \"2018\")]\n",
    "    X = df_colors_type[[\"image_r\", \"image_g\", \"image_b\"]].values\n",
    "    ax = fig.add_subplot(1,len (jersey_types)+1, i + 1, projection=\"3d\")\n",
    "    ax.scatter(X[:, 0], X[:, 1], X[:, 2], c=X/255.0, s=200, linewidths=1, edgecolors=\"k\")\n",
    "    ax.set_xlim3d(0,300)\n",
    "    ax.set_ylim3d(0,300)\n",
    "    ax.set_zlim3d(0,300)\n",
    "    ax.set_xlabel(\"Red\", fontsize=12, fontweight=\"bold\", color=\"r\")\n",
    "    ax.set_ylabel(\"Green\",  fontsize=12, fontweight=\"bold\", color=\"g\")\n",
    "    ax.set_zlabel(\"Blue\",  fontsize=12, fontweight=\"bold\", color=\"b\", rotation=90)\n",
    "    title = \"Football Shirt Dominant Colors for World Cup 2018 - {} jerseys\\n (sample size: {}\".format(jersey_type,len(df_colors_type))\n",
    "    ax.set_title(title , fontsize=12, fontweight=\"bold\", pad = 0)\n",
    "    i += 1\n",
    "\n",
    "\n"
   ]
  },
  {
   "cell_type": "markdown",
   "metadata": {
    "pycharm": {
     "metadata": false
    }
   },
   "source": [
    "# Liverpool"
   ]
  },
  {
   "cell_type": "code",
   "execution_count": null,
   "metadata": {
    "pycharm": {
     "is_executing": false,
     "metadata": false,
     "name": "#%%\n"
    }
   },
   "outputs": [],
   "source": [
    "df_colors = pd.read_csv(JERSEYS_COLORS_FILENAME, sep=\";\",usecols  =[\"image_r\", \"image_g\", \"image_b\",\"teamname\"])\n",
    "df_colors = df_colors [df_colors[\"teamname\"]==\"Liverpool\"]\n",
    "X = df_colors[[\"image_r\", \"image_g\", \"image_b\"]].values\n",
    "fig = plt.figure(figsize=(12,9))\n",
    "ax = fig.add_subplot(111, projection=\"3d\")\n",
    "ax.scatter(X[:, 0], X[:, 1], X[:, 2], c=X/255.0, s=50, edgecolors=\"none\")\n",
    "\n",
    "\n",
    "ax.set_xlabel(\"Red\", fontsize=14, fontweight=\"bold\", color=\"r\")\n",
    "ax.set_ylabel(\"Green\",  fontsize=14, fontweight=\"bold\", color=\"g\")\n",
    "ax.set_zlabel(\"Blue\",  fontsize=14, fontweight=\"bold\", color=\"b\", rotation=90)\n",
    "ax.set_title( \"Football Shirt Dominant Colors\", fontsize=14, fontweight=\"bold\", pad=20)\n",
    "plt.show()\n",
    "\n"
   ]
  },
  {
   "cell_type": "markdown",
   "metadata": {
    "pycharm": {
     "metadata": false
    }
   },
   "source": [
    "## Liverpool Home/Away/Third Jersey"
   ]
  },
  {
   "cell_type": "code",
   "execution_count": null,
   "metadata": {
    "pycharm": {
     "is_executing": false,
     "metadata": false,
     "name": "#%%\n"
    }
   },
   "outputs": [],
   "source": [
    "teamname = \"Liverpool\"\n",
    "# Define the Jersey Type that we will take into account\n",
    "jersey_types = [\"Home\", \"Away\", \"Third\"]\n",
    "# Load Dataset\n",
    "df_colors = pd.read_csv(JERSEYS_COLORS_FILENAME, sep=\";\",usecols  =[\"image_r\", \"image_g\", \"image_b\",\"teamname\", \"homeawaythird\"])\n",
    "\n",
    "fig = plt.figure(figsize=(24,6))\n",
    "fig.subplots_adjust(hspace=0.1, wspace=0.01)\n",
    "  \n",
    "i = 1\n",
    "for jersey_type in jersey_types:\n",
    "    df_colors_type = df_colors [(df_colors[\"teamname\"]== teamname) & (df_colors[\"homeawaythird\"] == jersey_type)]\n",
    "    X = df_colors_type[[\"image_r\", \"image_g\", \"image_b\"]].values\n",
    "    ax = fig.add_subplot(1, len (jersey_types), i, projection=\"3d\")\n",
    "    ax.scatter(X[:, 0], X[:, 1], X[:, 2], c=X/255.0, s=50, edgecolors=\"none\")\n",
    "    ax.set_xlim3d(0,300)\n",
    "    ax.set_ylim3d(0,300)\n",
    "    ax.set_zlim3d(0,300)\n",
    "    ax.set_xlabel(\"Red\", fontsize=12, fontweight=\"bold\", color=\"r\")\n",
    "    ax.set_ylabel(\"Green\",  fontsize=12, fontweight=\"bold\", color=\"g\")\n",
    "    ax.set_zlabel(\"Blue\",  fontsize=12, fontweight=\"bold\", color=\"b\", rotation=90)\n",
    "    ax.set_title( \"Football Shirt Dominant Colors for \"+ teamname + \" \"+  jersey_type + \" jerseys\", fontsize=12, fontweight=\"bold\", pad = 10)\n",
    "    i += 1\n",
    "\n"
   ]
  },
  {
   "cell_type": "markdown",
   "metadata": {
    "pycharm": {
     "metadata": false
    }
   },
   "source": [
    "## Comparison between two teams"
   ]
  },
  {
   "cell_type": "code",
   "execution_count": null,
   "metadata": {
    "pycharm": {
     "is_executing": false,
     "metadata": false,
     "name": "#%%\n"
    }
   },
   "outputs": [],
   "source": [
    "teamnames = [\"Manchester United\", \"Arsenal\"]\n",
    "# Define the Jersey Type that we will take into account\n",
    "jersey_type = \"Home\"\n",
    "\n",
    "# Load Dataset\n",
    "df_colors = pd.read_csv(JERSEYS_COLORS_FILENAME, sep=\";\", index_col=False,\n",
    "    usecols  =[\"image_caption\", \"image_content_url\", \"image_color\", \"image_r\", \"image_g\", \"image_b\",\"teamname\", \"homeawaythird\"])\n",
    "\n",
    "fig = plt.figure(figsize=(24,12))\n",
    "  \n",
    "df_colors_team1 = df_colors [(df_colors[\"teamname\"]== teamnames[0]) & (df_colors[\"homeawaythird\"] == jersey_type)]\n",
    "X = df_colors_team1[[\"image_r\", \"image_g\", \"image_b\"]].values\n",
    "df_colors_team2 = df_colors [(df_colors[\"teamname\"]== teamnames[1]) & (df_colors[\"homeawaythird\"] == jersey_type)]\n",
    "Y = df_colors_team2[[\"image_r\", \"image_g\", \"image_b\"]].values\n",
    "ax = fig.add_subplot(111, projection=\"3d\")\n",
    "ax.scatter(X[:, 0], X[:, 1], X[:, 2], c=X/255.0, s=100, marker =\"o\", linewidths=2, edgecolors=\"k\")\n",
    "ax.scatter(Y[:, 0], Y[:, 1], Y[:, 2], c=Y/255.0, s=100, marker =\"D\", linewidths=2, edgecolors=\"k\")\n",
    "ax.set_xlabel(\"Red\", fontsize=12, fontweight=\"bold\", color=\"r\")\n",
    "ax.set_ylabel(\"Green\",  fontsize=12, fontweight=\"bold\", color=\"g\")\n",
    "ax.set_zlabel(\"Blue\",  fontsize=12, fontweight=\"bold\", color=\"b\", rotation=90)\n",
    "ax.set_title( \"Football Shirt Dominant Colors comparison between \"+ teamnames[0] + \" and \" + teamnames[1] + \" \" +  jersey_type + \" jerseys\", fontsize=12, fontweight=\"bold\", pad = 10)\n",
    "\n",
    "\n"
   ]
  },
  {
   "cell_type": "code",
   "execution_count": null,
   "metadata": {},
   "outputs": [],
   "source": [
    "display_jersey_table(df_colors_team1[[\"image_caption\", \"image_content_url\", \"image_color\"]])"
   ]
  },
  {
   "cell_type": "markdown",
   "metadata": {
    "pycharm": {
     "metadata": false,
     "name": "#%% md\n"
    }
   },
   "source": [
    "Color Picker\n",
    "https://ipywidgets.readthedocs.io/en/stable/user_install.html"
   ]
  },
  {
   "cell_type": "code",
   "execution_count": null,
   "metadata": {
    "pycharm": {
     "is_executing": false,
     "metadata": false,
     "name": "#%%\n"
    }
   },
   "outputs": [],
   "source": [
    "widgets.ColorPicker(\n",
    "    concise=False,\n",
    "    description=\"Pick a color\",\n",
    "    value=\"blue\",\n",
    "    disabled=False\n",
    ")\n"
   ]
  },
  {
   "cell_type": "markdown",
   "metadata": {
    "pycharm": {
     "metadata": false
    }
   },
   "source": [
    "Country: careful because some teams have more jersey...\n",
    "Season: perhaps\n",
    "Country/Season/Type?\n",
    "2000-2005, 2006-2010, 2011-2015, 2016-2019\n",
    "\n",
    "\n",
    "\n"
   ]
  },
  {
   "cell_type": "markdown",
   "metadata": {
    "pycharm": {
     "metadata": false,
     "name": "#%% md\n"
    }
   },
   "source": [
    "Plotly test\n"
   ]
  },
  {
   "cell_type": "code",
   "execution_count": null,
   "metadata": {
    "pycharm": {
     "is_executing": false,
     "metadata": false,
     "name": "#%%\n"
    }
   },
   "outputs": [],
   "source": [
    "print(\"Implement Plotly\")\n"
   ]
  }
 ],
 "metadata": {
  "kernelspec": {
   "display_name": "Python 3",
   "language": "python",
   "name": "python3"
  },
  "language_info": {
   "codemirror_mode": {
    "name": "ipython",
    "version": 3
   },
   "file_extension": ".py",
   "mimetype": "text/x-python",
   "name": "python",
   "nbconvert_exporter": "python",
   "pygments_lexer": "ipython3",
   "version": "3.6.5"
  },
  "toc": {
   "base_numbering": 1,
   "nav_menu": {
    "height": "280px",
    "width": "245px"
   },
   "number_sections": false,
   "sideBar": true,
   "skip_h1_title": false,
   "title_cell": "Table of Contents",
   "title_sidebar": "Contents",
   "toc_cell": false,
   "toc_position": {
    "height": "calc(100% - 180px)",
    "left": "10px",
    "top": "150px",
    "width": "445px"
   },
   "toc_section_display": true,
   "toc_window_display": true
  }
 },
 "nbformat": 4,
 "nbformat_minor": 1
}
